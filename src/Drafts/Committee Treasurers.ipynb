{
 "cells": [
  {
   "cell_type": "code",
   "execution_count": 1,
   "metadata": {},
   "outputs": [],
   "source": [
    "import re\n",
    "from pyspark import SparkContext\n",
    "\n",
    "sc = SparkContext(appName=\"CommitteeTreasurers\")\n",
    "\n",
    "committee_2018 = '/Users/Dan/Downloads/cm.txt'"
   ]
  },
  {
   "cell_type": "code",
   "execution_count": 2,
   "metadata": {},
   "outputs": [],
   "source": [
    "def main(committeeData):\n",
    "    \n",
    "    # Generate an RDD consisting of (Committee Treasurer, [Committees])\n",
    "    cmteTr = (\n",
    "    committeeData\n",
    "    .map(lambda x: x.split('|'))\n",
    "    .map(lambda x: (x[2], [x[0] +\", \" + x[1]]))\n",
    "    .reduceByKey(lambda a, b: a + b)\n",
    "    .sortBy(lambda x: len(x[1]))\n",
    "    .collect()\n",
    "    )\n",
    "\n",
    "    # Generate an RDD consisting of (Cmte Count, Treasurer)\n",
    "    cmteTrCount = (\n",
    "    committeeData\n",
    "    .map(lambda x: x.split('|'))\n",
    "    .map(lambda x: (x[2], 1))\n",
    "    .reduceByKey(lambda a, b: a + b)\n",
    "    .map(lambda x: (x[1], x[0]))\n",
    "    )\n",
    "    \n",
    "    # Print out the top 100 campaign committee treasurers by number of related committess\n",
    "    print(cmteTrCount.top(100))\n"
   ]
  },
  {
   "cell_type": "code",
   "execution_count": 3,
   "metadata": {},
   "outputs": [
    {
     "name": "stdout",
     "output_type": "stream",
     "text": [
      "[(1363, ''), (108, 'KILGORE, PAUL'), (56, 'MAY, JENNIFER'), (54, 'MARSTON, CHRIS'), (48, 'LISKER, LISA'), (40, 'SATTERFIELD, DAVID'), (39, 'WATKINS, NANCY H.'), (36, 'JUDITH ZAMORE'), (34, 'PETTERSON, JAY'), (31, 'LISA LISKER'), (29, 'OTTENHOFF, BENJAMIN'), (28, 'KEITH A DAVIS'), (27, 'HOBBS, CABELL'), (27, 'CRUMMITT, GARY'), (24, 'ZAMORE, JUDITH'), (23, 'COPELAND, RITA'), (22, 'MELE, STEVEN'), (21, 'SLATER, JEN'), (20, 'CABELL HOBBS'), (19, 'LAURA MATTHEWS'), (18, 'CRATE, BRADLEY'), (17, 'KYRIACOPOULOS, JANICA'), (17, 'DAVIS, KEITH A.'), (15, 'RALLS, STEVE'), (15, 'MCMICHAEL, COLLIN'), (15, 'JENNIFER MAY'), (14, 'KRASON, PATRICK'), (14, 'EVANS, DIANE'), (14, 'CROSBY, CALEB'), (14, 'BAUER, DAVID'), (13, 'NANCY H WATKINS'), (13, 'LAWLER, KELLY'), (13, 'HASTIE, CHRISSIE'), (13, 'EICHMAN, J. RICHARD'), (13, 'DATWYLER, THOMAS'), (12, 'LIND, KATE'), (12, 'J BAILEY MORGAN'), (12, 'CHRIS MARSTON'), (12, 'CARLIN, ROBERT F.'), (11, 'DIANA K SAQUELLA'), (11, 'CRATE, BRADLEY T. MR.'), (10, 'TATTRIE, DARRYL'), (10, 'SHAWNDA DEANE'), (10, 'MIKE MCCAULEY'), (10, 'MACKENZIE, SCOTT B'), (10, 'KOCH, TIMOTHY A.'), (10, 'KELLY LAWLER'), (10, 'HORNADAY, ALEXANDER'), (10, 'HAGGARD, LORA'), (10, 'DAVID SATTERFIELD'), (10, 'CRATE, BRADLEY T'), (9, 'SIROIS, CHRISTINA'), (9, 'JOHNSON, MELODIE'), (9, 'JANICA KYRIACOPOULOS'), (9, 'GOULD, DAVID'), (9, 'GIARRAPUTO, HOLLY'), (9, 'EZEKIEL FREDERICK'), (9, 'DAVIDSON, CARY'), (8, 'RITA COPELAND'), (8, 'PAUL KILGORE'), (8, 'MARTIN, STEVEN G. JR.'), (8, 'LOWEY, KEITH D.'), (8, 'DEANE, SHAWNDA'), (8, 'CURTIS, ELIZABETH'), (7, 'WINPISINGER, VICKIE'), (7, 'RITER, JOEL'), (7, 'PETERSON, CARY L'), (7, 'MONTGOMERY, THOMAS'), (7, 'MCCAULEY, MIKE'), (7, 'MARSTON, CHRISTOPHER M'), (7, 'LESHER, MEREDITH'), (7, 'GOULD, DAVID L.'), (7, 'GANTT, CHARLES'), (7, 'ANDY MARTIN'), (6, 'YATES BAROODY'), (6, 'THEODORE V KOCH'), (6, 'OWENS, STACY'), (6, 'MASON, DAVID'), (6, 'MARKS, NANCY'), (6, 'KAUNE, JASON D.'), (6, 'HUGGINS, DEWON'), (6, 'GIANNI DONATES'), (6, 'FOUCART, BRIAN'), (6, 'BROGHAMER, KEVIN'), (6, 'ANGERHOLZER, LINDSAY F.'), (5, 'TURNER, CALE'), (5, 'TIMOTHY CHARLES KALEMKARIAN'), (5, 'TIMOTHY A KOCH'), (5, 'STEPHEN J KAUFMAN'), (5, 'SKINNER, SLOANE'), (5, 'SELPH, JOHN G.'), (5, 'PHILLIPS, RYAN'), (5, 'NANCY H. WATKINS'), (5, 'MIELNIK, MEGAN'), (5, 'MAXWELL, THOMAS F. III'), (5, 'MARTIN, STEVEN JR.'), (5, 'LOWEY, KEITH'), (5, 'LORA HAGGARD'), (5, 'LEIDERMAN, JANE'), (5, 'KUNEY, LORNA')]\n"
     ]
    }
   ],
   "source": [
    "main(sc.textFile(committee_2018))"
   ]
  },
  {
   "cell_type": "code",
   "execution_count": null,
   "metadata": {},
   "outputs": [],
   "source": []
  }
 ],
 "metadata": {
  "kernelspec": {
   "display_name": "Python 3",
   "language": "python",
   "name": "python3"
  },
  "language_info": {
   "codemirror_mode": {
    "name": "ipython",
    "version": 3
   },
   "file_extension": ".py",
   "mimetype": "text/x-python",
   "name": "python",
   "nbconvert_exporter": "python",
   "pygments_lexer": "ipython3",
   "version": "3.6.5"
  }
 },
 "nbformat": 4,
 "nbformat_minor": 2
}
