{
 "cells": [
  {
   "cell_type": "code",
   "execution_count": 1,
   "metadata": {},
   "outputs": [],
   "source": [
    "# Import dependencies\n",
    "# Basic modules\n",
    "import re\n",
    "import datetime\n",
    "from operator import add\n",
    "import os\n",
    "\n",
    "# Data analysis modules\n",
    "from pyspark.sql import SparkSession\n",
    "import pandas as pd\n",
    "import matplotlib.pyplot as plt\n",
    "import seaborn as sns"
   ]
  },
  {
   "cell_type": "code",
   "execution_count": 2,
   "metadata": {},
   "outputs": [],
   "source": [
    "# Instantiate variables for processing data moving forward\n",
    "# Spark configuration\n",
    "spark = SparkSession.builder.appName('2016_Presidental_Election_Indpendent_Expenditures').getOrCreate()\n",
    "\n",
    "# The path to the data -- defaults to the demo data that is downloaded by installer script.\n",
    "# Change this path to a different data set as desired\n",
    "datapath = os.environ['FEC_data_path']\n",
    "#datapath = '../../data/2016/'\n",
    "\n",
    "# Set the election year; modify this value to look at a different year\n",
    "election_year = \"2016\"\n",
    "\n",
    "# Set the file paths for the data file, based on the data path and election year\n",
    "independent_expenditure_file = '{0}/{1}/independent_expenditure_{1}.csv'.format(datapath, election_year)"
   ]
  },
  {
   "cell_type": "code",
   "execution_count": 3,
   "metadata": {},
   "outputs": [],
   "source": [
    "# Read the CSV as a spark dataframe\n",
    "ind_exp = spark.read.csv(independent_expenditure_file, header=True)\n",
    "\n",
    "# Convert the dataframe to an RDD, and \n",
    "# filter out the empty lines\n",
    "presidental_expenditures_rdd = (\n",
    "    ind_exp\n",
    "    .rdd\n",
    "    .filter(lambda x: len(x) != 0)\n",
    "    .filter(lambda x: 'None' not in x)\n",
    "    .filter(lambda x: x.ele_type == 'G' and x.can_office == 'P')\n",
    ")"
   ]
  },
  {
   "cell_type": "code",
   "execution_count": 4,
   "metadata": {},
   "outputs": [],
   "source": [
    "trump_expenditures = (\n",
    "    presidental_expenditures_rdd\n",
    "    .filter(lambda x: 'trump' in (x.cand_name).lower() and 'donald' in x.cand_name.lower() or x.cand_id == 'P80001571')\n",
    ")"
   ]
  },
  {
   "cell_type": "code",
   "execution_count": 5,
   "metadata": {},
   "outputs": [],
   "source": [
    "clinton_expenditures = (\n",
    "    presidental_expenditures_rdd\n",
    "    .filter(lambda x: 'hillary' in (x.cand_name).lower() and 'clinton' in x.cand_name.lower())\n",
    ")"
   ]
  },
  {
   "cell_type": "code",
   "execution_count": 102,
   "metadata": {},
   "outputs": [],
   "source": [
    "class candidate_expenditures_summary:\n",
    "    \n",
    "    '''\n",
    "        A class for summaraizing independent expenditure data and generating\n",
    "        a text report as a formatted string which outlines the number and sum\n",
    "        of independent expenditures\n",
    "    '''\n",
    "    \n",
    "    def __init__(self, candidate_expenditures_rdd, cand_name=None, election_year=None):\n",
    "        if cand_name:\n",
    "            self.cand_name = cand_name\n",
    "        else:\n",
    "            self.cand_name = None\n",
    "        if election_year:\n",
    "            self.election_year = election_year\n",
    "        else:\n",
    "            self.election_year = None\n",
    "        self.candidate_expenditures = candidate_expenditures_rdd\n",
    "        self.candidate_opposition = (\n",
    "            self.candidate_expenditures\n",
    "            .filter(lambda x: x.sup_opp == 'O')\n",
    "        )    \n",
    "        self.candidate_support = (\n",
    "            self.candidate_expenditures\n",
    "            .filter(lambda x: x.sup_opp == 'S')\n",
    "        )\n",
    "        self.sum_expenditures = (\n",
    "            self.candidate_expenditures\n",
    "            .filter(lambda x: x.exp_amo != None)\n",
    "            .map(lambda x: (1, float(x.exp_amo)))\n",
    "            .reduceByKey(add)\n",
    "            .map(lambda x: x[1])\n",
    "        )\n",
    "        self.sum_support = (\n",
    "            self.candidate_support\n",
    "            .filter(lambda x: x.exp_amo != None)\n",
    "            .map(lambda x: (1, float(x.exp_amo)))\n",
    "            .reduceByKey(add)\n",
    "            .map(lambda x: x[1])\n",
    "        )\n",
    "        self.sum_opposition = (\n",
    "            self.candidate_opposition\n",
    "            .filter(lambda x: x.exp_amo != None)\n",
    "            .map(lambda x: (1, float(x.exp_amo)))\n",
    "            .reduceByKey(add)\n",
    "            .map(lambda x: x[1])\n",
    "        )\n",
    "        \n",
    "    def collect_all(self):\n",
    "        self.total_expenditures_count = self.candidate_expenditures.count()\n",
    "        self.support_expenditures_count = self.candidate_support.count()\n",
    "        self.opposition_expenditures_count = self.candidate_opposition.count()\n",
    "        \n",
    "        self.total_expenditures_sum = round(self.sum_expenditures.collect()[0], 2)\n",
    "        self.support_expenditures_sum = round(self.sum_support.collect()[0], 2)\n",
    "        self.oppostion_expenditures_sum = round(self.sum_opposition.collect()[0], 2)\n",
    "    \n",
    "    # it might be worth it to move this kind of report out to its own class\n",
    "    def generate_report(self):\n",
    "        self.collect_all()\n",
    "        _exp_sum = self.total_expenditures_sum\n",
    "        _sup_sum = self.support_expenditures_sum\n",
    "        _opp_sum = self.oppostion_expenditures_sum\n",
    "        _exp_count = self.total_expenditures_count\n",
    "        _sup_count = self.support_expenditures_count\n",
    "        _opp_count = self.opposition_expenditures_count\n",
    "        _report_string = f\"{_exp_count:,} independent expenditures totaling ${_exp_sum:,.2f}.  {_sup_count:,} supporting expenditures totaling ${_sup_sum:,.2f}; {_opp_count:,} opposing expenditures totaling ${_opp_sum:,.2f}\"\n",
    "        if self.cand_name:\n",
    "            _report_candidate = f\"{self.cand_name} was the focus of \"\n",
    "            _report_string = _report_candidate + _report_string\n",
    "        if self.election_year:\n",
    "            _report_year = f\"In election year {self.election_year} \"\n",
    "            _report_string = _report_year + _report_string\n",
    "        return _report_string"
   ]
  },
  {
   "cell_type": "code",
   "execution_count": 103,
   "metadata": {},
   "outputs": [],
   "source": [
    "clinton_summary = candidate_expenditures_summary(clinton_expenditures, cand_name=\"Hilary Clinton\", election_year=\"2016\")\n",
    "clinton_report = clinton_summary.generate_report()"
   ]
  },
  {
   "cell_type": "code",
   "execution_count": 104,
   "metadata": {},
   "outputs": [],
   "source": [
    "trump_summary = candidate_expenditures_summary(trump_expenditures, cand_name=\"Donald Trump\", election_year=\"2016\")\n",
    "trump_report = trump_summary.generate_report()"
   ]
  },
  {
   "cell_type": "code",
   "execution_count": 105,
   "metadata": {},
   "outputs": [
    {
     "name": "stdout",
     "output_type": "stream",
     "text": [
      "In election year 2016 Donald Trump was the focus of 30,636 independent expenditures totaling $384,636,978.31.  990 supporting expenditures totaling $164,685,202.53; 29,639 opposing expenditures totaling $219,928,129.39\n",
      "In election year 2016 Hilary Clinton was the focus of 44,446 independent expenditures totaling $177,452,001.93.  40,893 supporting expenditures totaling $51,573,455.02; 3,549 opposing expenditures totaling $125,862,557.20\n"
     ]
    }
   ],
   "source": [
    "print(trump_report)\n",
    "print(clinton_report)"
   ]
  },
  {
   "cell_type": "code",
   "execution_count": null,
   "metadata": {},
   "outputs": [],
   "source": []
  }
 ],
 "metadata": {
  "kernelspec": {
   "display_name": "Python 3",
   "language": "python",
   "name": "python3"
  },
  "language_info": {
   "codemirror_mode": {
    "name": "ipython",
    "version": 3
   },
   "file_extension": ".py",
   "mimetype": "text/x-python",
   "name": "python",
   "nbconvert_exporter": "python",
   "pygments_lexer": "ipython3",
   "version": "3.6.5"
  }
 },
 "nbformat": 4,
 "nbformat_minor": 2
}
