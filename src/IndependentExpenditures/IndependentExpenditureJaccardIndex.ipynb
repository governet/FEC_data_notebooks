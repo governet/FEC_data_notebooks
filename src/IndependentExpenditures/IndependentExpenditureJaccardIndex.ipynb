{
 "cells": [
  {
   "cell_type": "markdown",
   "metadata": {},
   "source": [
    "# Context\n",
    "## Independent Expenditures\n",
    "### What is an Independent Expenditure?\n",
    "According to the <a href='https://www.fec.gov/help-candidates-and-committees/making-disbursements-pac/independent-expenditures-nonconnected-pac/'> Federal Election Commission documentation</a>, an Independent Expenditure is an expenditure for a communication that 'expressly advocates the election or defeat of a clearly identified federal candidate; and is not coordinated with a candidate, candidate’s committee, party committee or their agents.'\n",
    "\n",
    "Political action committees make independent expenditures to support or opposed candidates.  Independent expenditures are not contributions to a candidate and are therefore not subject to contribution limits.\n",
    "\n",
    "In this analysis we are finding the similarity between candidates, based on those committees which spend money to support or oppose them.  "
   ]
  },
  {
   "cell_type": "markdown",
   "metadata": {},
   "source": [
    "# Analysis\n",
    "## Calculating the Similarity Coefficient between candidates based on their shared contributors\n",
    "### Overview\n",
    "In this notebook we calculate the <a href=https://en.wikipedia.org/wiki/Jaccard_index> 'Jaccard Index', or Similarity Coefficient </a>, of candidates based on the identities of the committees who have spent money (independent expenditures) to support or oppose them.\n",
    "\n",
    "Scores are between 0 and 100, with 100 being identical set of committee spenders and 0 being no shared spenders.  For example: two candidates have no similarity in terms of expenditures on them, they will have a Jaccard Index of 0.  Two candidates who have exactly the same committees spending money on them will have a Jaccard Index of 100.\n",
    "\n",
    "This is useful in understanding patterns of giving and opposition, and how political action committees might be exercising influence across multiple candidates and races.\n",
    "\n",
    "### Method\n",
    "1. Obtain an RDD of the form (CandidateID, [list of contributor IDs])\n",
    "2. Cross join of the RDD generated in step 1 with itself\n",
    "3. Calculate the Jaccard Index of each set produced by the cross join\n",
    "    - get the sum of the length of the sets of contributors for each candidate being compared\n",
    "    - get the length of the union of the sets of contributors to each candidate\n",
    "    - divide the union of the sets by the total length of the sets\n",
    "    - multiple by 100\n",
    "4. Return an RDD of the form (Jaccard Index, (Candidate1ID, Candidate2ID))\n",
    "5. Print the return to the console\n",
    "\n",
    "#### Author\n",
    "Dan Budris <d.c.budris@gmail.com>"
   ]
  },
  {
   "cell_type": "code",
   "execution_count": null,
   "metadata": {},
   "outputs": [],
   "source": [
    "# Import dependencies\n",
    "# Basic modules\n",
    "import re\n",
    "import datetime\n",
    "from operator import add\n",
    "\n",
    "# Data analysis modules\n",
    "from pyspark.sql import SparkSession\n",
    "import pandas as pd\n",
    "import matplotlib.pyplot as plt\n",
    "import seaborn as sns"
   ]
  },
  {
   "cell_type": "code",
   "execution_count": null,
   "metadata": {},
   "outputs": [],
   "source": [
    "# Instantiate variables for processing data moving forward\n",
    "spark = SparkSession.builder.appName('ElectionAnalyzer').getOrCreate()\n",
    "datapath = '/Users/Dan/data/2016/'\n",
    "\n",
    "# Set the election year; modify this value to look at a different year\n",
    "election_year = \"2016\"\n",
    "\n",
    "# Set the file paths for the data file, based on the data path and election year\n",
    "independent_expenditure_file = '{0}independent_expenditure_{1}.csv'.format(datapath, election_year)"
   ]
  },
  {
   "cell_type": "code",
   "execution_count": null,
   "metadata": {},
   "outputs": [],
   "source": [
    "# Read the CSV as a spark dataframe\n",
    "ind_exp = spark.read.csv(independent_expenditure_file, header=True)\n",
    "\n",
    "# Convert the dataframe to an RDD, and \n",
    "# filter out the empty lines\n",
    "total_expenditures_rdd = (\n",
    "    ind_exp\n",
    "    .rdd\n",
    "    .filter(lambda x: len(x) != 0)\n",
    ")"
   ]
  },
  {
   "cell_type": "code",
   "execution_count": null,
   "metadata": {},
   "outputs": [],
   "source": [
    "# Define functions for preping and analyzing the data \n",
    "\n",
    "def prep_data(input_rdd, val_key, val_value):\n",
    "    ''' A function to map and reduce an RDD based on a given key and value.\n",
    "        Provided an object attribute to use as a key, and one to use as a value,\n",
    "        will map the rdd to a tuple of (key, value) and then reduce by key by \n",
    "        addition\n",
    "    '''\n",
    "    _prepped_data = (\n",
    "        input_rdd\n",
    "        .filter(lambda x: (getattr(x, val_key) != 'None'))\n",
    "        .map(lambda x: (getattr(x, val_key), [getattr(x, val_value)]))\n",
    "        .reduceByKey(lambda x, y: x + y)\n",
    "        .map(lambda x: (x[0], set(x[1])))\n",
    "    )\n",
    "    return _prepped_data\n",
    "    \n",
    "def calculate_similarity_coefficient(set_one, set_two, min_similar=None):\n",
    "    ''' Function to calculate the Jaccard Index, given two sets\n",
    "        Returns the Jaccard Index as a numeric percentage between 0 and 100\n",
    "        Given a 'min_similar' value, will only return positive values for those \n",
    "        sets whose intersection is greater than or equal to the minimum similarity.\n",
    "    '''\n",
    "    _set_one = set(set_one)\n",
    "    _set_two = set(set_two)\n",
    "    _set_union_len = len(_set_one.union(_set_two))\n",
    "    _set_intersect_len = len(_set_one.intersection(_set_two))\n",
    "    if min_similar:\n",
    "        if _set_intersect_len < min_similar:\n",
    "            return 0\n",
    "    _sim_coeff = _set_intersect_len/_set_union_len * 100\n",
    "    return _sim_coeff\n",
    "    \n",
    "def rdd_similarity_coefficient_map(input_rdd):\n",
    "    ''' Given an RDD of the form [(Identifier, [List of Characteristics])]\n",
    "        This function will produce an RDD of the form [(Jaccard Index), Identifier1, Identifier2]\n",
    "        based on the cartesian product of the RDD\n",
    "    '''\n",
    "    _coeff_sim = (\n",
    "        input_rdd\n",
    "        # get the cartesian product of the input rdd with itself\n",
    "        .cartesian(input_rdd)\n",
    "        # filter out the self * self products\n",
    "        .filter(lambda x: x[0] != x[1])\n",
    "        # calculate the Jaccard Index for each result of the cross-product\n",
    "        # returning a nested tuple of (Jaccard Index, (cand1 id, cand2 id))\n",
    "        .map(lambda x: (calculate_similarity_coefficient(x[0][1], x[1][1], min_similar=5), (x[0][0], x[1][0])))\n",
    "    )\n",
    "    return _coeff_sim"
   ]
  },
  {
   "cell_type": "code",
   "execution_count": null,
   "metadata": {},
   "outputs": [],
   "source": [
    "# Calculate the Jaccard similarity for each candidate the committee who has spent on that candidate\n",
    "candidate_pairs_with_jaccard_index = (\n",
    "    rdd_similarity_coefficient_map(\n",
    "        prep_data(\n",
    "            total_expenditures_rdd, 'cand_id', 'spe_id'\n",
    "        )\n",
    "    )\n",
    "    #.map(lambda x: (x[0], frozenset([x[1][0], x[1][1]])))\n",
    "    #.distinct()\n",
    ")"
   ]
  },
  {
   "cell_type": "code",
   "execution_count": null,
   "metadata": {},
   "outputs": [],
   "source": [
    "# Collect the (similarity, candidate pair) RDD, printing to the console\n",
    "cands_w_coeff = candidate_pairs_with_jaccard_index.sortByKey(False).collect()"
   ]
  },
  {
   "cell_type": "code",
   "execution_count": null,
   "metadata": {},
   "outputs": [],
   "source": [
    "# This variable has the data in the form (jaccard index, (candidate id 1, candidate id 2))\n",
    "# Print, save, or otherwise parse this information as you see fit.\n",
    "cands_w_coeff"
   ]
  }
 ],
 "metadata": {
  "kernelspec": {
   "display_name": "Python 3",
   "language": "python",
   "name": "python3"
  },
  "language_info": {
   "codemirror_mode": {
    "name": "ipython",
    "version": 3
   },
   "file_extension": ".py",
   "mimetype": "text/x-python",
   "name": "python",
   "nbconvert_exporter": "python",
   "pygments_lexer": "ipython3",
   "version": "3.6.5"
  }
 },
 "nbformat": 4,
 "nbformat_minor": 2
}
